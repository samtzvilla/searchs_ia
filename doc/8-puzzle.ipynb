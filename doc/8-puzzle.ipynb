{
 "cells": [
  {
   "cell_type": "markdown",
   "metadata": {},
   "source": [
    "# The 8-Puzzle "
   ]
  },
  {
   "attachments": {
    "image.png": {
     "image/png": "[encoded data removed]"
    }
   },
   "cell_type": "markdown",
   "metadata": {},
   "source": [
    " The 8-Puzzle\n",
    " 8-Puzzle is a game invented by Noyes Palmer Chapman in the 1870's. This  problem consist in a 3x3 grid with 8 labeled tiles (one to eight) and one blank (empty tile). The goal is to rearrange the tiles until they are oredered. Labeled tiles can be swaped with the blank in left, right, up and dwon direction (when they are adjacent).\n",
    " \n",
    "![image.png](attachment:image.png)\n",
    "\n",
    "- System's state is give by tiles positions\n",
    "- The succesor function moves the blank (left, right, up and dwon)\n",
    "- Goal is reached when the tiles are ordered.\n",
    "- Unitary cost (one per move)"
   ]
  },
  {
   "cell_type": "markdown",
   "metadata": {},
   "source": [
    "In order to deifned a blind serach we should import **SimpleSearch** and write succesor and goal functions. Succesor function recieves a node and returns a succesors list.\n",
    "\n",
    "The abstrac representation for the state is defined using tuples (we wish that a node state be inmutable). For example, the states for the configurations in the previous figure can be defined as follows (0 value is used  for the blank). "
   ]
  },
  {
   "cell_type": "code",
   "execution_count": 5,
   "metadata": {
    "collapsed": true,
    "jupyter": {
     "outputs_hidden": true
    }
   },
   "outputs": [],
   "source": [
    "state1=((7,2,4),(5,0,6),(8,3,1)) # initial state\n",
    "state2=((0,1,2),(3,4,5),(6,7,8)) # final state"
   ]
  },
  {
   "cell_type": "markdown",
   "metadata": {},
   "source": [
    " Previous examples should be assigned as part of a node. A *SimpleSearch node* has the following attributes:\n",
    "\n",
    "  - state: the system state at this node\n",
    "  - parent: node which generated it (default \"None\"). \n",
    "  - depth: node's tree depth (default 0).\n",
    "  - cost: node's cost (e.i. one per move, default 0).\n",
    "  - delta: node's heuristic value (default 0).\n",
    "  - op: String containing generator operation description (default \"\")\n"
   ]
  },
  {
   "cell_type": "markdown",
   "metadata": {},
   "source": [
    "to start we add SimpleSearch"
   ]
  },
  {
   "cell_type": "code",
   "execution_count": null,
   "metadata": {},
   "outputs": [
    {
     "ename": "ModuleNotFoundError",
     "evalue": "No module named 'imp'",
     "output_type": "error",
     "traceback": [
      "\u001b[31m---------------------------------------------------------------------------\u001b[39m",
      "\u001b[31mModuleNotFoundError\u001b[39m                       Traceback (most recent call last)",
      "\u001b[36mCell\u001b[39m\u001b[36m \u001b[39m\u001b[32mIn[6]\u001b[39m\u001b[32m, line 1\u001b[39m\n\u001b[32m----> \u001b[39m\u001b[32m1\u001b[39m \u001b[38;5;28;01mimport\u001b[39;00m\u001b[38;5;250m \u001b[39m\u001b[34;01msys\u001b[39;00m,\u001b[34;01mos\u001b[39;00m,\u001b[38;5;250m \u001b[39m\u001b[34;01mimp\u001b[39;00m\n\u001b[32m      2\u001b[39m baile_path=os.path.abspath(os.path.join(\u001b[33m\"\u001b[39m\u001b[33m..\u001b[39m\u001b[33m\"\u001b[39m,\u001b[33m\"\u001b[39m\u001b[33msrc\u001b[39m\u001b[33m\"\u001b[39m))\n\u001b[32m      3\u001b[39m \u001b[38;5;28;01mif\u001b[39;00m \u001b[38;5;129;01mnot\u001b[39;00m baile_path \u001b[38;5;129;01min\u001b[39;00m sys.path:\n",
      "\u001b[31mModuleNotFoundError\u001b[39m: No module named 'imp'"
     ]
    }
   ],
   "source": [
    "import sys,os\n",
    "baile_path=os.path.abspath(os.path.join(\"..\",\"src\"))\n",
    "if not baile_path in sys.path:\n",
    "    sys.path.append(baile_path)\n",
    "import SimpleSearch as ss\n",
    "from imp import reload\n",
    "reload(ss)"
   ]
  },
  {
   "cell_type": "markdown",
   "metadata": {},
   "source": [
    "a node is defined as follow:"
   ]
  },
  {
   "cell_type": "code",
   "execution_count": null,
   "metadata": {
    "collapsed": true,
    "jupyter": {
     "outputs_hidden": true
    }
   },
   "outputs": [],
   "source": [
    "start=ss.node(((7,2,4),(5,0,6),(8,3,1)),op=\"start\") # only node state is given"
   ]
  },
  {
   "cell_type": "code",
   "execution_count": null,
   "metadata": {},
   "outputs": [
    {
     "name": "stdout",
     "output_type": "stream",
     "text": [
      "start's state:  ((7, 2, 4), (5, 0, 6), (8, 3, 1))\n",
      "start's parent:  None\n",
      "start's depth:  0\n"
     ]
    }
   ],
   "source": [
    "# to print some node's attributes\n",
    "print(\"start's state: \", start.state) \n",
    "print(\"start's parent: \", start.parent) \n",
    "print(\"start's depth: \", start.depth) "
   ]
  },
  {
   "cell_type": "markdown",
   "metadata": {},
   "source": [
    "In order to generated a node's succesors we should move the blank (0). For example if the 0 is at position $(i,j)$, it can be move to: \n",
    "\n",
    "- move right: swap with tile at $(i+1,j)$,\n",
    "- move left: swap with tile at $(i-1,j)$,\n",
    "- move down: swap with tile at $(i,j+1)$ and\n",
    "- move up: swap with tile at $(i,j-1)$\n",
    "\n",
    "this give at most four possible succesors. Note that a movement is valid only if $0\\leq i,j < 3$. A possible succesor implementation is as follows:"
   ]
  },
  {
   "cell_type": "code",
   "execution_count": null,
   "metadata": {
    "collapsed": true,
    "jupyter": {
     "outputs_hidden": true
    }
   },
   "outputs": [],
   "source": [
    "def successor8Puzzle(a):\n",
    "    board=a.state # current state\n",
    "    #find the 0\n",
    "    i,j=[(i,j) for i in range(len(board)) for j in range(len(board[i])) if board[i][j]==0][0]\n",
    "    # postions\n",
    "    left,right=(i,j-1,\"left\"),(i,j+1,\"right\")\n",
    "    up,down=(i+1,j,\"down\"),(i-1,j,\"up\")\n",
    "    successors=[]\n",
    "    for x,y,op in [up,down,left,right]: \n",
    "        if  0<=y<len(board[0]) and 0<=x<len(board): # test for boundaries\n",
    "            nboard=[list(bx[:]) for bx in board] # make a copy\n",
    "            nboard[x][y],nboard[i][j]=board[i][j],board[x][y] # swap \n",
    "            nboard=tuple([tuple(row) for row in nboard]) # make inmutable\n",
    "            successors.append(ss.node(nboard,op=op,depth=a.depth+1,parent=a))# create a node\n",
    "    return successors # list of successors"
   ]
  },
  {
   "cell_type": "markdown",
   "metadata": {},
   "source": [
    "using just define fucntion (it recieves a node)."
   ]
  },
  {
   "cell_type": "code",
   "execution_count": null,
   "metadata": {},
   "outputs": [
    {
     "data": {
      "text/plain": [
       "[<SimpleSearch.node at 0x10445c2b0>,\n",
       " <SimpleSearch.node at 0x10445c240>,\n",
       " <SimpleSearch.node at 0x10445c048>,\n",
       " <SimpleSearch.node at 0x10a909d68>]"
      ]
     },
     "execution_count": 6,
     "metadata": {},
     "output_type": "execute_result"
    }
   ],
   "source": [
    "successor8Puzzle(start)"
   ]
  },
  {
   "cell_type": "markdown",
   "metadata": {},
   "source": [
    "to print  state value and the generator operation"
   ]
  },
  {
   "cell_type": "code",
   "execution_count": null,
   "metadata": {},
   "outputs": [
    {
     "data": {
      "text/plain": [
       "[(((7, 2, 4), (5, 3, 6), (8, 0, 1)), 'down'),\n",
       " (((7, 0, 4), (5, 2, 6), (8, 3, 1)), 'up'),\n",
       " (((7, 2, 4), (0, 5, 6), (8, 3, 1)), 'left'),\n",
       " (((7, 2, 4), (5, 6, 0), (8, 3, 1)), 'right')]"
      ]
     },
     "execution_count": 7,
     "metadata": {},
     "output_type": "execute_result"
    }
   ],
   "source": [
    "[(x.state,x.op) for x in successor8Puzzle(start)]"
   ]
  },
  {
   "cell_type": "markdown",
   "metadata": {},
   "source": [
    "for this problem the goal is defined explicitly, as consequence the goal function recieves two nodes(start and goal). Whe the goal is given implicitly the goal fucntion recieves only one argument (you can use a *var)."
   ]
  },
  {
   "cell_type": "code",
   "execution_count": null,
   "metadata": {
    "collapsed": true,
    "jupyter": {
     "outputs_hidden": true
    }
   },
   "outputs": [],
   "source": [
    " \n",
    "def goal8Puzzle(*states):  # goal8Puzzle(start,final)\n",
    "    a=states[0] # start state is the firts argument\n",
    "    b=states[1] # final state is the second...\n",
    "    return a.state==b.state # test if a==b (returns a boolean)"
   ]
  },
  {
   "cell_type": "markdown",
   "metadata": {},
   "source": [
    "if final is:"
   ]
  },
  {
   "cell_type": "code",
   "execution_count": null,
   "metadata": {
    "collapsed": true,
    "jupyter": {
     "outputs_hidden": true
    }
   },
   "outputs": [],
   "source": [
    "final=ss.node(((0,1,2),(3,4,5),(6,7,8)),op=\"final\")"
   ]
  },
  {
   "cell_type": "markdown",
   "metadata": {},
   "source": [
    "to test the goal function:"
   ]
  },
  {
   "cell_type": "code",
   "execution_count": null,
   "metadata": {},
   "outputs": [
    {
     "name": "stdout",
     "output_type": "stream",
     "text": [
      "False\n",
      "True\n"
     ]
    }
   ],
   "source": [
    "print(goal8Puzzle(start,final)) # start=final\n",
    "print(goal8Puzzle(final,final)) # final=final\n"
   ]
  },
  {
   "cell_type": "markdown",
   "metadata": {},
   "source": [
    "now, all is ready to execute (**bfs**) and (**dfs**) searchs. We could create a instance of each one as follow:"
   ]
  },
  {
   "cell_type": "code",
   "execution_count": null,
   "metadata": {
    "collapsed": true,
    "jupyter": {
     "outputs_hidden": true
    }
   },
   "outputs": [],
   "source": [
    "bfs=ss.BlindSearch(start,successor8Puzzle,goal8Puzzle,goal_state=final,strategy=\"bfs\")\n",
    "dfs=ss.BlindSearch(start,successor8Puzzle,goal8Puzzle,goal_state=final,strategy=\"dfs\")"
   ]
  },
  {
   "cell_type": "markdown",
   "metadata": {},
   "source": [
    "to perform a search we execute **find**. As results a node with a valid state is returned it the solution exist, and with **No solution found** it  solution does not exist."
   ]
  },
  {
   "cell_type": "code",
   "execution_count": null,
   "metadata": {},
   "outputs": [
    {
     "name": "stdout",
     "output_type": "stream",
     "text": [
      "finished in 172604 iterations\n"
     ]
    }
   ],
   "source": [
    "resb=bfs.find() # Performs a BFS"
   ]
  },
  {
   "cell_type": "markdown",
   "metadata": {},
   "source": [
    "to see the final state:"
   ]
  },
  {
   "cell_type": "code",
   "execution_count": null,
   "metadata": {},
   "outputs": [
    {
     "name": "stdout",
     "output_type": "stream",
     "text": [
      "((0, 1, 2), (3, 4, 5), (6, 7, 8))\n"
     ]
    }
   ],
   "source": [
    "print(resb.state)"
   ]
  },
  {
   "cell_type": "markdown",
   "metadata": {},
   "source": [
    "for this case we can track states transictions by using node's **getPath** method."
   ]
  },
  {
   "cell_type": "code",
   "execution_count": null,
   "metadata": {
    "collapsed": true,
    "jupyter": {
     "outputs_hidden": true
    }
   },
   "outputs": [],
   "source": [
    "seqb=resb.getPath()"
   ]
  },
  {
   "cell_type": "code",
   "execution_count": null,
   "metadata": {},
   "outputs": [
    {
     "name": "stdout",
     "output_type": "stream",
     "text": [
      "Solution sequence has  27 steps\n"
     ]
    }
   ],
   "source": [
    "print(\"Solution sequence has  %s steps\" %len(seqb))"
   ]
  },
  {
   "cell_type": "code",
   "execution_count": null,
   "metadata": {},
   "outputs": [
    {
     "data": {
      "text/plain": [
       "[(((7, 2, 4), (5, 0, 6), (8, 3, 1)), 'start', 0),\n",
       " (((7, 2, 4), (0, 5, 6), (8, 3, 1)), 'left', 1),\n",
       " (((0, 2, 4), (7, 5, 6), (8, 3, 1)), 'up', 2),\n",
       " (((2, 0, 4), (7, 5, 6), (8, 3, 1)), 'right', 3),\n",
       " (((2, 5, 4), (7, 0, 6), (8, 3, 1)), 'down', 4),\n",
       " (((2, 5, 4), (7, 3, 6), (8, 0, 1)), 'down', 5),\n",
       " (((2, 5, 4), (7, 3, 6), (0, 8, 1)), 'left', 6),\n",
       " (((2, 5, 4), (0, 3, 6), (7, 8, 1)), 'up', 7),\n",
       " (((2, 5, 4), (3, 0, 6), (7, 8, 1)), 'right', 8),\n",
       " (((2, 5, 4), (3, 6, 0), (7, 8, 1)), 'right', 9),\n",
       " (((2, 5, 0), (3, 6, 4), (7, 8, 1)), 'up', 10),\n",
       " (((2, 0, 5), (3, 6, 4), (7, 8, 1)), 'left', 11),\n",
       " (((0, 2, 5), (3, 6, 4), (7, 8, 1)), 'left', 12),\n",
       " (((3, 2, 5), (0, 6, 4), (7, 8, 1)), 'down', 13),\n",
       " (((3, 2, 5), (6, 0, 4), (7, 8, 1)), 'right', 14),\n",
       " (((3, 2, 5), (6, 4, 0), (7, 8, 1)), 'right', 15),\n",
       " (((3, 2, 5), (6, 4, 1), (7, 8, 0)), 'down', 16),\n",
       " (((3, 2, 5), (6, 4, 1), (7, 0, 8)), 'left', 17),\n",
       " (((3, 2, 5), (6, 0, 1), (7, 4, 8)), 'up', 18),\n",
       " (((3, 2, 5), (6, 1, 0), (7, 4, 8)), 'right', 19),\n",
       " (((3, 2, 0), (6, 1, 5), (7, 4, 8)), 'up', 20),\n",
       " (((3, 0, 2), (6, 1, 5), (7, 4, 8)), 'left', 21),\n",
       " (((3, 1, 2), (6, 0, 5), (7, 4, 8)), 'down', 22),\n",
       " (((3, 1, 2), (6, 4, 5), (7, 0, 8)), 'down', 23),\n",
       " (((3, 1, 2), (6, 4, 5), (0, 7, 8)), 'left', 24),\n",
       " (((3, 1, 2), (0, 4, 5), (6, 7, 8)), 'up', 25),\n",
       " (((0, 1, 2), (3, 4, 5), (6, 7, 8)), 'up', 26)]"
      ]
     },
     "execution_count": 16,
     "metadata": {},
     "output_type": "execute_result"
    }
   ],
   "source": [
    "seqb # Solution"
   ]
  },
  {
   "cell_type": "code",
   "execution_count": null,
   "metadata": {},
   "outputs": [
    {
     "name": "stdout",
     "output_type": "stream",
     "text": [
      "finished in 11766 iterations\n"
     ]
    }
   ],
   "source": [
    "resd=dfs.find() # Performs a DFS"
   ]
  },
  {
   "cell_type": "code",
   "execution_count": null,
   "metadata": {
    "collapsed": true,
    "jupyter": {
     "outputs_hidden": true
    }
   },
   "outputs": [],
   "source": [
    "seqd=resd.getPath()"
   ]
  },
  {
   "cell_type": "code",
   "execution_count": null,
   "metadata": {},
   "outputs": [
    {
     "name": "stdout",
     "output_type": "stream",
     "text": [
      "Solution sequence has  11451 steps\n"
     ]
    }
   ],
   "source": [
    "print(\"Solution sequence has  %s steps\" %len(seqd))"
   ]
  },
  {
   "cell_type": "markdown",
   "metadata": {},
   "source": [
    "To long sequence, it is better no to show..."
   ]
  },
  {
   "cell_type": "markdown",
   "metadata": {},
   "source": [
    "to perform $A^*$ search we first need to defined an heuristic. For 8 puzzle we can use the sum of **manhattan** distance for each tile from current to final position.  "
   ]
  },
  {
   "cell_type": "code",
   "execution_count": null,
   "metadata": {
    "collapsed": true,
    "jupyter": {
     "outputs_hidden": true
    }
   },
   "outputs": [],
   "source": [
    "def manhattan(*states):\n",
    "    cs,gs=states[0].state,states[1].state\n",
    "    cs_pos=[(cs[i][j],(i,j)) for i in range(len(cs)) for j in range(len(cs[0]))]\n",
    "    gs_pos=[(gs[i][j],(i,j)) for i in range(len(gs)) for j in range(len(gs[0]))]\n",
    "    cs_pos.sort(),gs_pos.sort()\n",
    "    #print(cs_pos)\n",
    "    #print(ns_pos)\n",
    "    res=[abs(a[1][0]-b[1][0])+abs(a[1][1]-b[1][1]) for a,b in zip(cs_pos[1:],gs_pos[1:])] \n",
    "    #print(sum(res))\n",
    "    return sum(res)"
   ]
  },
  {
   "cell_type": "code",
   "execution_count": null,
   "metadata": {},
   "outputs": [
    {
     "data": {
      "text/plain": [
       "18"
      ]
     },
     "execution_count": 21,
     "metadata": {},
     "output_type": "execute_result"
    }
   ],
   "source": [
    "manhattan(start,final)"
   ]
  },
  {
   "cell_type": "code",
   "execution_count": null,
   "metadata": {
    "collapsed": true,
    "jupyter": {
     "outputs_hidden": true
    }
   },
   "outputs": [],
   "source": [
    "reload(ss)\n",
    "ass=ss.BlindSearch(start,successor8Puzzle,goal8Puzzle,goal_state=final,\n",
    "                     strategy=\"a*\",heuristic=manhattan)"
   ]
  },
  {
   "cell_type": "code",
   "execution_count": null,
   "metadata": {},
   "outputs": [
    {
     "name": "stdout",
     "output_type": "stream",
     "text": [
      "finished in 247 iterations\n"
     ]
    }
   ],
   "source": [
    "resa=ass.find()"
   ]
  },
  {
   "cell_type": "code",
   "execution_count": null,
   "metadata": {
    "collapsed": true,
    "jupyter": {
     "outputs_hidden": true
    }
   },
   "outputs": [],
   "source": [
    "seqa=resa.getPath()"
   ]
  },
  {
   "cell_type": "code",
   "execution_count": null,
   "metadata": {},
   "outputs": [
    {
     "name": "stdout",
     "output_type": "stream",
     "text": [
      "Solution sequence has  67 steps\n"
     ]
    }
   ],
   "source": [
    "print(\"Solution sequence has  %s steps\" %len(seqa))"
   ]
  },
  {
   "cell_type": "code",
   "execution_count": null,
   "metadata": {},
   "outputs": [
    {
     "data": {
      "text/plain": [
       "[(((7, 2, 4), (5, 0, 6), (8, 3, 1)), 'start', 0),\n",
       " (((7, 2, 4), (5, 3, 6), (8, 0, 1)), 'down', 1),\n",
       " (((7, 2, 4), (5, 3, 6), (8, 1, 0)), 'right', 2),\n",
       " (((7, 2, 4), (5, 3, 0), (8, 1, 6)), 'up', 3),\n",
       " (((7, 2, 0), (5, 3, 4), (8, 1, 6)), 'up', 4),\n",
       " (((7, 0, 2), (5, 3, 4), (8, 1, 6)), 'left', 5),\n",
       " (((0, 7, 2), (5, 3, 4), (8, 1, 6)), 'left', 6),\n",
       " (((5, 7, 2), (0, 3, 4), (8, 1, 6)), 'down', 7),\n",
       " (((5, 7, 2), (3, 0, 4), (8, 1, 6)), 'right', 8),\n",
       " (((5, 7, 2), (3, 1, 4), (8, 0, 6)), 'down', 9),\n",
       " (((5, 7, 2), (3, 1, 4), (0, 8, 6)), 'left', 10),\n",
       " (((5, 7, 2), (0, 1, 4), (3, 8, 6)), 'up', 11),\n",
       " (((0, 7, 2), (5, 1, 4), (3, 8, 6)), 'up', 12),\n",
       " (((7, 0, 2), (5, 1, 4), (3, 8, 6)), 'right', 13),\n",
       " (((7, 1, 2), (5, 0, 4), (3, 8, 6)), 'down', 14),\n",
       " (((7, 1, 2), (0, 5, 4), (3, 8, 6)), 'left', 15),\n",
       " (((7, 1, 2), (3, 5, 4), (0, 8, 6)), 'down', 16),\n",
       " (((7, 1, 2), (3, 5, 4), (8, 0, 6)), 'right', 17),\n",
       " (((7, 1, 2), (3, 5, 4), (8, 6, 0)), 'right', 18),\n",
       " (((7, 1, 2), (3, 5, 0), (8, 6, 4)), 'up', 19),\n",
       " (((7, 1, 2), (3, 0, 5), (8, 6, 4)), 'left', 20),\n",
       " (((7, 1, 2), (3, 6, 5), (8, 0, 4)), 'down', 21),\n",
       " (((7, 1, 2), (3, 6, 5), (0, 8, 4)), 'left', 22),\n",
       " (((7, 1, 2), (0, 6, 5), (3, 8, 4)), 'up', 23),\n",
       " (((7, 1, 2), (6, 0, 5), (3, 8, 4)), 'right', 24),\n",
       " (((7, 1, 2), (6, 5, 0), (3, 8, 4)), 'right', 25),\n",
       " (((7, 1, 2), (6, 5, 4), (3, 8, 0)), 'down', 26),\n",
       " (((7, 1, 2), (6, 5, 4), (3, 0, 8)), 'left', 27),\n",
       " (((7, 1, 2), (6, 5, 4), (0, 3, 8)), 'left', 28),\n",
       " (((7, 1, 2), (0, 5, 4), (6, 3, 8)), 'up', 29),\n",
       " (((0, 1, 2), (7, 5, 4), (6, 3, 8)), 'up', 30),\n",
       " (((1, 0, 2), (7, 5, 4), (6, 3, 8)), 'right', 31),\n",
       " (((1, 5, 2), (7, 0, 4), (6, 3, 8)), 'down', 32),\n",
       " (((1, 5, 2), (7, 3, 4), (6, 0, 8)), 'down', 33),\n",
       " (((1, 5, 2), (7, 3, 4), (0, 6, 8)), 'left', 34),\n",
       " (((1, 5, 2), (0, 3, 4), (7, 6, 8)), 'up', 35),\n",
       " (((1, 5, 2), (3, 0, 4), (7, 6, 8)), 'right', 36),\n",
       " (((1, 5, 2), (3, 4, 0), (7, 6, 8)), 'right', 37),\n",
       " (((1, 5, 0), (3, 4, 2), (7, 6, 8)), 'up', 38),\n",
       " (((1, 0, 5), (3, 4, 2), (7, 6, 8)), 'left', 39),\n",
       " (((0, 1, 5), (3, 4, 2), (7, 6, 8)), 'left', 40),\n",
       " (((3, 1, 5), (0, 4, 2), (7, 6, 8)), 'down', 41),\n",
       " (((3, 1, 5), (7, 4, 2), (0, 6, 8)), 'down', 42),\n",
       " (((3, 1, 5), (7, 4, 2), (6, 0, 8)), 'right', 43),\n",
       " (((3, 1, 5), (7, 0, 2), (6, 4, 8)), 'up', 44),\n",
       " (((3, 1, 5), (0, 7, 2), (6, 4, 8)), 'left', 45),\n",
       " (((0, 1, 5), (3, 7, 2), (6, 4, 8)), 'up', 46),\n",
       " (((1, 0, 5), (3, 7, 2), (6, 4, 8)), 'right', 47),\n",
       " (((1, 5, 0), (3, 7, 2), (6, 4, 8)), 'right', 48),\n",
       " (((1, 5, 2), (3, 7, 0), (6, 4, 8)), 'down', 49),\n",
       " (((1, 5, 2), (3, 0, 7), (6, 4, 8)), 'left', 50),\n",
       " (((1, 0, 2), (3, 5, 7), (6, 4, 8)), 'up', 51),\n",
       " (((1, 2, 0), (3, 5, 7), (6, 4, 8)), 'right', 52),\n",
       " (((1, 2, 7), (3, 5, 0), (6, 4, 8)), 'down', 53),\n",
       " (((1, 2, 7), (3, 0, 5), (6, 4, 8)), 'left', 54),\n",
       " (((1, 2, 7), (3, 4, 5), (6, 0, 8)), 'down', 55),\n",
       " (((1, 2, 7), (3, 4, 5), (6, 8, 0)), 'right', 56),\n",
       " (((1, 2, 7), (3, 4, 0), (6, 8, 5)), 'up', 57),\n",
       " (((1, 2, 0), (3, 4, 7), (6, 8, 5)), 'up', 58),\n",
       " (((1, 0, 2), (3, 4, 7), (6, 8, 5)), 'left', 59),\n",
       " (((1, 4, 2), (3, 0, 7), (6, 8, 5)), 'down', 60),\n",
       " (((1, 4, 2), (3, 7, 0), (6, 8, 5)), 'right', 61),\n",
       " (((1, 4, 2), (3, 7, 5), (6, 8, 0)), 'down', 62),\n",
       " (((1, 4, 2), (3, 7, 5), (6, 0, 8)), 'left', 63),\n",
       " (((1, 4, 2), (3, 0, 5), (6, 7, 8)), 'up', 64),\n",
       " (((1, 0, 2), (3, 4, 5), (6, 7, 8)), 'up', 65),\n",
       " (((0, 1, 2), (3, 4, 5), (6, 7, 8)), 'left', 66)]"
      ]
     },
     "execution_count": 26,
     "metadata": {},
     "output_type": "execute_result"
    }
   ],
   "source": [
    "seqa"
   ]
  },
  {
   "cell_type": "markdown",
   "metadata": {},
   "source": [
    "execution time can be measure using **%time**"
   ]
  },
  {
   "cell_type": "code",
   "execution_count": null,
   "metadata": {},
   "outputs": [
    {
     "name": "stdout",
     "output_type": "stream",
     "text": [
      "finished in 172604 iterations\n",
      "CPU times: user 8.06 s, sys: 108 ms, total: 8.17 s\n",
      "Wall time: 8.41 s\n"
     ]
    },
    {
     "data": {
      "text/plain": [
       "<SimpleSearch.node at 0x10b479da0>"
      ]
     },
     "execution_count": 27,
     "metadata": {},
     "output_type": "execute_result"
    }
   ],
   "source": [
    "%time bfs.find() # execution time of BFS"
   ]
  },
  {
   "cell_type": "code",
   "execution_count": null,
   "metadata": {},
   "outputs": [
    {
     "name": "stdout",
     "output_type": "stream",
     "text": [
      "finished in 11766 iterations\n",
      "CPU times: user 440 ms, sys: 6.65 ms, total: 447 ms\n",
      "Wall time: 444 ms\n"
     ]
    },
    {
     "data": {
      "text/plain": [
       "<SimpleSearch.node at 0x10ecb5eb8>"
      ]
     },
     "execution_count": 28,
     "metadata": {},
     "output_type": "execute_result"
    }
   ],
   "source": [
    "%time dfs.find() # execution time of DFS"
   ]
  },
  {
   "cell_type": "code",
   "execution_count": null,
   "metadata": {},
   "outputs": [
    {
     "name": "stdout",
     "output_type": "stream",
     "text": [
      "finished in 247 iterations\n",
      "CPU times: user 15 ms, sys: 711 µs, total: 15.7 ms\n",
      "Wall time: 15.2 ms\n"
     ]
    },
    {
     "data": {
      "text/plain": [
       "<SimpleSearch.node at 0x10cf0d6a0>"
      ]
     },
     "execution_count": 29,
     "metadata": {},
     "output_type": "execute_result"
    }
   ],
   "source": [
    "%time ass.find() # execution time of DFS"
   ]
  },
  {
   "attachments": {
    "image.png": {
     "image/png": "[encoded data removed]"
    }
   },
   "cell_type": "markdown",
   "metadata": {},
   "source": [
    "## Exercise \n",
    "completed the table using the following input:\n",
    "\n",
    "![image.png](attachment:image.png)\n",
    "\n",
    "|Search strategy|# of visited nodes|execution time|solution length|\n",
    "|:-------------:|--------------:|-------------:|--------------:|\n",
    "|BFS|-|-|-|\n",
    "|DFS|-|-|-|\n",
    "|$A^*$|-|-|-|\n",
    "\n",
    "- ¿What can be infered from the table?\n",
    "- ¿Is it fair comparing the algorithms by using a single case?\n",
    "    - If your answer is \"no\" ¿How is possible to perform a fair comparison?\n",
    "    - If your answer is \"Yes\" Please, explain why.\n"
   ]
  },
  {
   "cell_type": "code",
   "execution_count": null,
   "metadata": {
    "collapsed": true,
    "jupyter": {
     "outputs_hidden": true
    }
   },
   "outputs": [],
   "source": []
  }
 ],
 "metadata": {
  "kernelspec": {
   "display_name": ".venv",
   "language": "python",
   "name": "python3"
  },
  "language_info": {
   "codemirror_mode": {
    "name": "ipython",
    "version": 3
   },
   "file_extension": ".py",
   "mimetype": "text/x-python",
   "name": "python",
   "nbconvert_exporter": "python",
   "pygments_lexer": "ipython3",
   "version": "3.12.3"
  }
 },
 "nbformat": 4,
 "nbformat_minor": 4
}
