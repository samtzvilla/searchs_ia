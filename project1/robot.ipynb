{
 "cells": [
  {
   "cell_type": "markdown",
   "id": "b3c393f3",
   "metadata": {},
   "source": [
    "# Proyecto 1: búsqueda de árbol\n",
    "## Robot en un almacén con obstáculos\n",
    "\n",
    "Un robot debe moverse en un almacén representado por una cuadrícula donde algunas celdas están bloqueadas. El robot comienza en una celda inicial y debe llegar a una meta determinada. Se pueden permitir movimientos en cuatro direcciones $\\left(N, S, O, E\\right)$ o incluir diagonales.\n",
    "\n",
    "Este problema puede formularse como sigue:\n",
    "\n",
    "- **Estados:** cualquier ubicación que se encuentre el robot en una celda desbloqueada.\n",
    "- **Estado inicial:** ubicación del robot sobre una celda desbloqueada.\n",
    "- **Función sucesora:** generar estados legales al aplicar los movimientos en las direcciones $\\left(N, S, O, E\\right)$.\n",
    "- **Condición meta:** que el robot se encuentre sobre la celda objetivo desbloqueda.\n",
    "- **Heurística:**"
   ]
  },
  {
   "cell_type": "code",
   "execution_count": 140,
   "id": "e88cba86",
   "metadata": {},
   "outputs": [],
   "source": [
    "import sys,os\n",
    "import numpy as np\n",
    "\n",
    "# Obtenemos la ruta absoluta de la ruta relativa \"../src\"\n",
    "# i.e. \"../src\" -> \"/home/juandto/FIE/Inteligencia_artificial/searchs_ia/src\" \n",
    "baile_path = os.path.abspath(os.path.join(\"..\", \"src\"))\n",
    "\n",
    "# sys.path contiene una lista de directorios donde el intérprete buscará\n",
    "# el módulo requerido\n",
    "if not baile_path in sys.path:\n",
    "  # Añadimos el directorio en caso de que no esté\n",
    "  sys.path.append(baile_path)\n",
    "\n",
    "import SimpleSearch as ss"
   ]
  },
  {
   "cell_type": "code",
   "execution_count": 141,
   "id": "8c355276",
   "metadata": {},
   "outputs": [],
   "source": [
    "init_state = (\n",
    "    (2, 0, 0, 0, 0),\n",
    "    (1, 1, 0, 1, 1),\n",
    "    (0, 0, 0, 0, 0),\n",
    "    (0, 1, 1, 1, 0),\n",
    "    (0, 0, 0, 0, 0)\n",
    "    )\n",
    "\n",
    "start = ss.node(init_state, op=\"start\")\n",
    "\n",
    "fin_state = (\n",
    "    (0, 0, 0, 0, 0),\n",
    "    (1, 1, 0, 1, 1),\n",
    "    (0, 0, 0, 0, 0),\n",
    "    (0, 1, 1, 1, 0),\n",
    "    (0, 0, 0, 0, 2)\n",
    "    )\n",
    "\n",
    "final = ss.node(fin_state)"
   ]
  },
  {
   "cell_type": "code",
   "execution_count": 142,
   "id": "5afb45bb",
   "metadata": {},
   "outputs": [],
   "source": [
    "def successor(node):\n",
    "  maze = node.state # maze = laberinto\n",
    "  sucessors = []\n",
    "\n",
    "  # Encontrar el robot (2) en el tablero. El resultado se almacena en index\n",
    "  for index,value in np.ndenumerate(maze):\n",
    "    if value == 2:\n",
    "      break\n",
    "\n",
    "  # Generar los estados válidos para los que podrá moverse el robot\n",
    "  # (-1, 0) = N\n",
    "  # (1, 0) = S\n",
    "  # (0, -1) = O\n",
    "  # (0, 1) = E\n",
    "  x, y = index\n",
    "  for dx, dy in [(0, 1), (0, -1), (1, 0), (-1, 0)]:\n",
    "    nx, ny = x + dx, y + dy\n",
    "    if 0 <= nx < len(maze) and 0 <= ny < len(maze[0]) and maze[nx][ny] != 1:\n",
    "      nmaze = [list(r[:]) for r in maze] # Se hace una copia del tablero original\n",
    "      nmaze[x][y] = 0 # Se marca como vacía la posición antigua del robot\n",
    "      nmaze[nx][ny] = 2 # Se marca como ocupada la nueva posición del robot\n",
    "      nmaze = tuple([tuple(r) for r in nmaze]) # Hacer inmutable\n",
    "      sucessors.append(ss.node(nmaze, depth=node.depth+1, op=f'robot moved from ({x}, {y}) to ({nx}, {ny})', parent=node))\n",
    "\n",
    "  return sucessors"
   ]
  },
  {
   "cell_type": "code",
   "execution_count": 143,
   "id": "e3dff506",
   "metadata": {},
   "outputs": [],
   "source": [
    "def goal(*nodes):\n",
    "  current = nodes[0]\n",
    "  final = nodes[1]\n",
    "  return current.state == final.state"
   ]
  },
  {
   "cell_type": "code",
   "execution_count": 144,
   "id": "f7a43f12",
   "metadata": {},
   "outputs": [],
   "source": [
    "bfs = ss.BlindSearch(start, successor, goal, goal_state=final, strategy=\"bfs\")\n",
    "dfs = ss.BlindSearch(start, successor, goal, goal_state=final, strategy=\"dfs\")"
   ]
  },
  {
   "cell_type": "code",
   "execution_count": null,
   "id": "243d8f6e",
   "metadata": {},
   "outputs": [
    {
     "name": "stdout",
     "output_type": "stream",
     "text": [
      "finished in 2 iterations\n",
      "Se acabaron los estados: 0\n",
      "Solution not found\n"
     ]
    },
    {
     "data": {
      "text/plain": [
       "[('Solution not found', '', 0)]"
      ]
     },
     "execution_count": 145,
     "metadata": {},
     "output_type": "execute_result"
    }
   ],
   "source": [
    "resb = dfs.find() # Realiza BFS\n",
    "print(resb.state)\n",
    "seqb=resb.getPath()\n",
    "seqb"
   ]
  }
 ],
 "metadata": {
  "kernelspec": {
   "display_name": ".venv",
   "language": "python",
   "name": "python3"
  },
  "language_info": {
   "codemirror_mode": {
    "name": "ipython",
    "version": 3
   },
   "file_extension": ".py",
   "mimetype": "text/x-python",
   "name": "python",
   "nbconvert_exporter": "python",
   "pygments_lexer": "ipython3",
   "version": "3.12.3"
  }
 },
 "nbformat": 4,
 "nbformat_minor": 5
}
