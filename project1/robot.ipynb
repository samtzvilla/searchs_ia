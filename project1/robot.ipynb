{
 "cells": [
  {
   "cell_type": "markdown",
   "id": "b3c393f3",
   "metadata": {},
   "source": [
    "# Proyecto 1: búqueda de árbol\n",
    "## Robot en un almacén con obstáculos\n",
    "\n",
    "Un robot debe moverse en un almacén representado por una cuadrícula donde algunas celdas están bloqueadas. El robot comienza en una celda inicial y debe llegar a una meta determinada. Se pueden permitir movimientos en cuatro direcciones $\\left(N, S, E, O\\right)$ o incluir diagonales.\n",
    "\n",
    "Este problema puede formularse como sigue:\n",
    "\n",
    "- **Estados:** cualquier ubicación que se encuentre el robot en una celda desbloqueada.\n",
    "- **Estado inicial:** ubicación del robot sobre una celda desbloqueada.\n",
    "- **Función sucesora:** generar estados legales al aplicar los movimientos en las direcciones $\\left(N, S, E, O\\right)$.\n",
    "- **Condición meta:**\n",
    "- **Heurística:**"
   ]
  },
  {
   "cell_type": "code",
   "execution_count": 2,
   "id": "e88cba86",
   "metadata": {},
   "outputs": [],
   "source": [
    "import sys,os\n",
    "\n",
    "# Obtenemos la ruta absoluta de la ruta relativa \"../src\"\n",
    "# i.e. \"../src\" -> \"/home/juandto/FIE/Inteligencia_artificial/searchs_ia/src\" \n",
    "baile_path = os.path.abspath(os.path.join(\"..\", \"src\"))\n",
    "\n",
    "# sys.path contiene una lista de directorios donde el intérprete buscará\n",
    "# el módulo requerido\n",
    "if not baile_path in sys.path:\n",
    "  # Añadimos el directorio en caso de que no esté\n",
    "  sys.path.append(baile_path) \n",
    "\n",
    "import SimpleSearch as ss"
   ]
  }
 ],
 "metadata": {
  "kernelspec": {
   "display_name": ".venv",
   "language": "python",
   "name": "python3"
  },
  "language_info": {
   "codemirror_mode": {
    "name": "ipython",
    "version": 3
   },
   "file_extension": ".py",
   "mimetype": "text/x-python",
   "name": "python",
   "nbconvert_exporter": "python",
   "pygments_lexer": "ipython3",
   "version": "3.12.3"
  }
 },
 "nbformat": 4,
 "nbformat_minor": 5
}
