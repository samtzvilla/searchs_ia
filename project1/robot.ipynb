{
 "cells": [
  {
   "attachments": {
    "image.png": {
     "image/png": "[encoded data removed]"
    }
   },
   "cell_type": "markdown",
   "id": "b3c393f3",
   "metadata": {},
   "source": [
    "# Proyecto 1: búsqueda de árbol\n",
    "## Robot en un almacén con obstáculos\n",
    "\n",
    "Un robot debe moverse en un almacén representado por una cuadrícula donde algunas celdas están bloqueadas. El robot comienza en una celda inicial y debe llegar a una meta determinada. Se pueden permitir movimientos en cuatro direcciones $\\left(N, S, O, E\\right)$ o incluir diagonales.\n",
    "\n",
    "![](attachment:image.png)\n",
    "\n",
    "Este problema puede formularse como sigue:\n",
    "\n",
    "- **Estados:** cualquier ubicación que se encuentre el robot en una celda desbloqueada.\n",
    "- **Estado inicial:** ubicación del robot sobre una celda desbloqueada.\n",
    "- **Función sucesora:** generar estados legales al aplicar los movimientos en las direcciones $\\left(N, S, O, E\\right)$.\n",
    "- **Condición meta:** que el robot se encuentre sobre la celda objetivo desbloqueda.\n",
    "- **Heurística:**"
   ]
  },
  {
   "cell_type": "code",
   "execution_count": 135,
   "id": "e88cba86",
   "metadata": {},
   "outputs": [],
   "source": [
    "import sys,os\n",
    "import numpy as np\n",
    "\n",
    "# Obtenemos la ruta absoluta de la ruta relativa \"../src\"\n",
    "# i.e. \"../src\" -> \"/home/juandto/FIE/Inteligencia_artificial/searchs_ia/src\" \n",
    "baile_path = os.path.abspath(os.path.join(\"..\", \"src\"))\n",
    "\n",
    "# sys.path contiene una lista de directorios donde el intérprete buscará\n",
    "# el módulo requerido\n",
    "if not baile_path in sys.path:\n",
    "  # Añadimos el directorio en caso de que no esté\n",
    "  sys.path.append(baile_path)\n",
    "\n",
    "import SimpleSearch as ss"
   ]
  },
  {
   "cell_type": "code",
   "execution_count": 136,
   "id": "8c355276",
   "metadata": {},
   "outputs": [],
   "source": [
    "init_state = (\n",
    "    (2, 0, 0, 0, 0),\n",
    "    (0, 1, 0, 1, 1),\n",
    "    (0, 0, 0, 0, 0),\n",
    "    (0, 1, 1, 1, 0),\n",
    "    (0, 0, 0, 0, 0)\n",
    "    )\n",
    "\n",
    "start = ss.node(init_state, op=\"start\")\n",
    "\n",
    "fin_state = (\n",
    "    (0, 0, 0, 0, 0),\n",
    "    (0, 1, 0, 1, 1),\n",
    "    (0, 0, 0, 0, 0),\n",
    "    (0, 1, 1, 1, 0),\n",
    "    (0, 0, 0, 0, 2)\n",
    "    )\n",
    "\n",
    "final = ss.node(fin_state)"
   ]
  },
  {
   "cell_type": "code",
   "execution_count": 137,
   "id": "5afb45bb",
   "metadata": {},
   "outputs": [],
   "source": [
    "def successor(node):\n",
    "  maze = node.state # maze = laberinto\n",
    "  sucessors = []\n",
    "\n",
    "  # Encontrar el robot (2) en el tablero. El resultado se almacena en index\n",
    "  for index,value in np.ndenumerate(maze):\n",
    "    if value == 2:\n",
    "      break\n",
    "\n",
    "  # Generar los estados válidos para los que podrá moverse el robot\n",
    "  # (-1, 0) = N\n",
    "  # (1, 0) = S\n",
    "  # (0, -1) = O\n",
    "  # (0, 1) = E\n",
    "  x, y = index\n",
    "  for dx, dy in [(0, 1), (0, -1), (1, 0), (-1, 0)]:\n",
    "    nx, ny = x + dx, y + dy\n",
    "    if 0 <= nx < len(maze) and 0 <= ny < len(maze[0]) and maze[nx][ny] != 1:\n",
    "      nmaze = [list(r[:]) for r in maze] # Se hace una copia del tablero original\n",
    "      nmaze[x][y] = 0 # Se marca como vacía la posición antigua del robot\n",
    "      nmaze[nx][ny] = 2 # Se marca como ocupada la nueva posición del robot\n",
    "      nmaze = tuple([tuple(r) for r in nmaze]) # Hacer inmutable\n",
    "      sucessors.append(ss.node(nmaze, depth=node.depth+1, op=f'robot moved from ({x}, {y}) to ({nx}, {ny})', parent=node))\n",
    "\n",
    "  return sucessors"
   ]
  },
  {
   "cell_type": "code",
   "execution_count": 138,
   "id": "e3dff506",
   "metadata": {},
   "outputs": [],
   "source": [
    "def goal(*nodes):\n",
    "  current = nodes[0]\n",
    "  final = nodes[1]\n",
    "  return current.state == final.state"
   ]
  },
  {
   "cell_type": "code",
   "execution_count": 139,
   "id": "f7a43f12",
   "metadata": {},
   "outputs": [],
   "source": [
    "bfs = ss.BlindSearch(start, successor, goal, goal_state=final, strategy=\"bfs\")\n",
    "dfs = ss.BlindSearch(start, successor, goal, goal_state=final, strategy=\"dfs\")"
   ]
  },
  {
   "cell_type": "code",
   "execution_count": 140,
   "id": "243d8f6e",
   "metadata": {},
   "outputs": [
    {
     "name": "stdout",
     "output_type": "stream",
     "text": [
      "finished in 19 iterations\n",
      "Se acabaron los estados: 0\n"
     ]
    }
   ],
   "source": [
    "resb = bfs.find() # Realiza BFS"
   ]
  },
  {
   "cell_type": "code",
   "execution_count": 141,
   "id": "6631235d",
   "metadata": {},
   "outputs": [
    {
     "name": "stdout",
     "output_type": "stream",
     "text": [
      "((0, 0, 0, 0, 0), (0, 1, 0, 1, 1), (0, 0, 0, 0, 0), (0, 1, 1, 1, 0), (0, 0, 0, 0, 2))\n"
     ]
    }
   ],
   "source": [
    "print(resb.state)"
   ]
  },
  {
   "cell_type": "code",
   "execution_count": 142,
   "id": "ca1fc33d",
   "metadata": {},
   "outputs": [],
   "source": [
    "seqb = resb.getPath()"
   ]
  },
  {
   "cell_type": "code",
   "execution_count": 143,
   "id": "bf2d64ba",
   "metadata": {},
   "outputs": [
    {
     "name": "stdout",
     "output_type": "stream",
     "text": [
      "La secuencia de solución tiene 9 pasos\n"
     ]
    },
    {
     "data": {
      "text/plain": [
       "[(((2, 0, 0, 0, 0),\n",
       "   (0, 1, 0, 1, 1),\n",
       "   (0, 0, 0, 0, 0),\n",
       "   (0, 1, 1, 1, 0),\n",
       "   (0, 0, 0, 0, 0)),\n",
       "  'start',\n",
       "  0),\n",
       " (((0, 2, 0, 0, 0),\n",
       "   (0, 1, 0, 1, 1),\n",
       "   (0, 0, 0, 0, 0),\n",
       "   (0, 1, 1, 1, 0),\n",
       "   (0, 0, 0, 0, 0)),\n",
       "  'robot moved from (0, 0) to (0, 1)',\n",
       "  1),\n",
       " (((0, 0, 2, 0, 0),\n",
       "   (0, 1, 0, 1, 1),\n",
       "   (0, 0, 0, 0, 0),\n",
       "   (0, 1, 1, 1, 0),\n",
       "   (0, 0, 0, 0, 0)),\n",
       "  'robot moved from (0, 1) to (0, 2)',\n",
       "  2),\n",
       " (((0, 0, 0, 0, 0),\n",
       "   (0, 1, 2, 1, 1),\n",
       "   (0, 0, 0, 0, 0),\n",
       "   (0, 1, 1, 1, 0),\n",
       "   (0, 0, 0, 0, 0)),\n",
       "  'robot moved from (0, 2) to (1, 2)',\n",
       "  3),\n",
       " (((0, 0, 0, 0, 0),\n",
       "   (0, 1, 0, 1, 1),\n",
       "   (0, 0, 2, 0, 0),\n",
       "   (0, 1, 1, 1, 0),\n",
       "   (0, 0, 0, 0, 0)),\n",
       "  'robot moved from (1, 2) to (2, 2)',\n",
       "  4),\n",
       " (((0, 0, 0, 0, 0),\n",
       "   (0, 1, 0, 1, 1),\n",
       "   (0, 0, 0, 2, 0),\n",
       "   (0, 1, 1, 1, 0),\n",
       "   (0, 0, 0, 0, 0)),\n",
       "  'robot moved from (2, 2) to (2, 3)',\n",
       "  5),\n",
       " (((0, 0, 0, 0, 0),\n",
       "   (0, 1, 0, 1, 1),\n",
       "   (0, 0, 0, 0, 2),\n",
       "   (0, 1, 1, 1, 0),\n",
       "   (0, 0, 0, 0, 0)),\n",
       "  'robot moved from (2, 3) to (2, 4)',\n",
       "  6),\n",
       " (((0, 0, 0, 0, 0),\n",
       "   (0, 1, 0, 1, 1),\n",
       "   (0, 0, 0, 0, 0),\n",
       "   (0, 1, 1, 1, 2),\n",
       "   (0, 0, 0, 0, 0)),\n",
       "  'robot moved from (2, 4) to (3, 4)',\n",
       "  7),\n",
       " (((0, 0, 0, 0, 0),\n",
       "   (0, 1, 0, 1, 1),\n",
       "   (0, 0, 0, 0, 0),\n",
       "   (0, 1, 1, 1, 0),\n",
       "   (0, 0, 0, 0, 2)),\n",
       "  'robot moved from (3, 4) to (4, 4)',\n",
       "  8)]"
      ]
     },
     "execution_count": 143,
     "metadata": {},
     "output_type": "execute_result"
    }
   ],
   "source": [
    "print(\"La secuencia de solución tiene %s pasos\" %len(seqb))\n",
    "seqb #Solución"
   ]
  },
  {
   "cell_type": "code",
   "execution_count": 144,
   "id": "cf0c5752",
   "metadata": {},
   "outputs": [
    {
     "name": "stdout",
     "output_type": "stream",
     "text": [
      "finished in 8 iterations\n",
      "Se acabaron los estados: 3\n"
     ]
    }
   ],
   "source": [
    "resd = dfs.find() # Realiza DFS"
   ]
  },
  {
   "cell_type": "code",
   "execution_count": 145,
   "id": "420b934e",
   "metadata": {},
   "outputs": [],
   "source": [
    "seqd = resd.getPath()"
   ]
  },
  {
   "cell_type": "code",
   "execution_count": 146,
   "id": "4801f16f",
   "metadata": {},
   "outputs": [
    {
     "name": "stdout",
     "output_type": "stream",
     "text": [
      "La secuencia de solución tiene 9 pasos\n"
     ]
    },
    {
     "data": {
      "text/plain": [
       "[(((2, 0, 0, 0, 0),\n",
       "   (0, 1, 0, 1, 1),\n",
       "   (0, 0, 0, 0, 0),\n",
       "   (0, 1, 1, 1, 0),\n",
       "   (0, 0, 0, 0, 0)),\n",
       "  'start',\n",
       "  0),\n",
       " (((0, 0, 0, 0, 0),\n",
       "   (2, 1, 0, 1, 1),\n",
       "   (0, 0, 0, 0, 0),\n",
       "   (0, 1, 1, 1, 0),\n",
       "   (0, 0, 0, 0, 0)),\n",
       "  'robot moved from (0, 0) to (1, 0)',\n",
       "  1),\n",
       " (((0, 0, 0, 0, 0),\n",
       "   (0, 1, 0, 1, 1),\n",
       "   (2, 0, 0, 0, 0),\n",
       "   (0, 1, 1, 1, 0),\n",
       "   (0, 0, 0, 0, 0)),\n",
       "  'robot moved from (1, 0) to (2, 0)',\n",
       "  2),\n",
       " (((0, 0, 0, 0, 0),\n",
       "   (0, 1, 0, 1, 1),\n",
       "   (0, 0, 0, 0, 0),\n",
       "   (2, 1, 1, 1, 0),\n",
       "   (0, 0, 0, 0, 0)),\n",
       "  'robot moved from (2, 0) to (3, 0)',\n",
       "  3),\n",
       " (((0, 0, 0, 0, 0),\n",
       "   (0, 1, 0, 1, 1),\n",
       "   (0, 0, 0, 0, 0),\n",
       "   (0, 1, 1, 1, 0),\n",
       "   (2, 0, 0, 0, 0)),\n",
       "  'robot moved from (3, 0) to (4, 0)',\n",
       "  4),\n",
       " (((0, 0, 0, 0, 0),\n",
       "   (0, 1, 0, 1, 1),\n",
       "   (0, 0, 0, 0, 0),\n",
       "   (0, 1, 1, 1, 0),\n",
       "   (0, 2, 0, 0, 0)),\n",
       "  'robot moved from (4, 0) to (4, 1)',\n",
       "  5),\n",
       " (((0, 0, 0, 0, 0),\n",
       "   (0, 1, 0, 1, 1),\n",
       "   (0, 0, 0, 0, 0),\n",
       "   (0, 1, 1, 1, 0),\n",
       "   (0, 0, 2, 0, 0)),\n",
       "  'robot moved from (4, 1) to (4, 2)',\n",
       "  6),\n",
       " (((0, 0, 0, 0, 0),\n",
       "   (0, 1, 0, 1, 1),\n",
       "   (0, 0, 0, 0, 0),\n",
       "   (0, 1, 1, 1, 0),\n",
       "   (0, 0, 0, 2, 0)),\n",
       "  'robot moved from (4, 2) to (4, 3)',\n",
       "  7),\n",
       " (((0, 0, 0, 0, 0),\n",
       "   (0, 1, 0, 1, 1),\n",
       "   (0, 0, 0, 0, 0),\n",
       "   (0, 1, 1, 1, 0),\n",
       "   (0, 0, 0, 0, 2)),\n",
       "  'robot moved from (4, 3) to (4, 4)',\n",
       "  8)]"
      ]
     },
     "execution_count": 146,
     "metadata": {},
     "output_type": "execute_result"
    }
   ],
   "source": [
    "print(\"La secuencia de solución tiene %s pasos\" %len(seqd))\n",
    "seqd"
   ]
  },
  {
   "cell_type": "code",
   "execution_count": 147,
   "id": "eab11b9c",
   "metadata": {},
   "outputs": [],
   "source": [
    "def manhattan(*nodes):\n",
    "  current_s = nodes[0].state\n",
    "  goal_s = nodes[1].state\n",
    "\n",
    "  \n",
    "  # Encontrar el robot (2) en el tablero. El resultado se almacena en index_c\n",
    "  for index_c,value in np.ndenumerate(current_s):\n",
    "    if value == 2:\n",
    "      break\n",
    "\n",
    "  # Encontrar la posición final del robot (2) en el tablero. El resultado se almacena en index_g\n",
    "  for index_g,value in np.ndenumerate(goal_s):\n",
    "    if value == 2:\n",
    "      break \n",
    "\n",
    "  # Calcular los pasos horizontales y verticales para la meta\n",
    "  dis = (abs(index_g[0] - index_c[0]), abs(index_g[1] - index_c[1]))  \n",
    "  \n",
    "  # Retornar los pasos totales\n",
    "  return dis[0] + dis[1]"
   ]
  },
  {
   "cell_type": "code",
   "execution_count": 148,
   "id": "4eeb8568",
   "metadata": {},
   "outputs": [
    {
     "data": {
      "text/plain": [
       "8"
      ]
     },
     "execution_count": 148,
     "metadata": {},
     "output_type": "execute_result"
    }
   ],
   "source": [
    "manhattan(start, final)"
   ]
  },
  {
   "cell_type": "code",
   "execution_count": 149,
   "id": "5f6f4e71",
   "metadata": {},
   "outputs": [],
   "source": [
    "astars = ss.BlindSearch(start, successor, goal, goal_state=final, strategy=\"a*\", heuristic=manhattan)"
   ]
  },
  {
   "cell_type": "code",
   "execution_count": 150,
   "id": "96b8453c",
   "metadata": {},
   "outputs": [
    {
     "name": "stdout",
     "output_type": "stream",
     "text": [
      "finished in 19 iterations\n",
      "Se acabaron los estados: 0\n"
     ]
    }
   ],
   "source": [
    "resa = astars.find()"
   ]
  },
  {
   "cell_type": "code",
   "execution_count": 151,
   "id": "20cf1313",
   "metadata": {},
   "outputs": [],
   "source": [
    "seqa = resa.getPath()"
   ]
  },
  {
   "cell_type": "code",
   "execution_count": 152,
   "id": "7b400c51",
   "metadata": {},
   "outputs": [
    {
     "name": "stdout",
     "output_type": "stream",
     "text": [
      "La secuencia de solución tiene 9 pasos\n"
     ]
    },
    {
     "data": {
      "text/plain": [
       "[(((2, 0, 0, 0, 0),\n",
       "   (0, 1, 0, 1, 1),\n",
       "   (0, 0, 0, 0, 0),\n",
       "   (0, 1, 1, 1, 0),\n",
       "   (0, 0, 0, 0, 0)),\n",
       "  'start',\n",
       "  0),\n",
       " (((0, 0, 0, 0, 0),\n",
       "   (2, 1, 0, 1, 1),\n",
       "   (0, 0, 0, 0, 0),\n",
       "   (0, 1, 1, 1, 0),\n",
       "   (0, 0, 0, 0, 0)),\n",
       "  'robot moved from (0, 0) to (1, 0)',\n",
       "  1),\n",
       " (((0, 0, 0, 0, 0),\n",
       "   (0, 1, 0, 1, 1),\n",
       "   (2, 0, 0, 0, 0),\n",
       "   (0, 1, 1, 1, 0),\n",
       "   (0, 0, 0, 0, 0)),\n",
       "  'robot moved from (1, 0) to (2, 0)',\n",
       "  2),\n",
       " (((0, 0, 0, 0, 0),\n",
       "   (0, 1, 0, 1, 1),\n",
       "   (0, 2, 0, 0, 0),\n",
       "   (0, 1, 1, 1, 0),\n",
       "   (0, 0, 0, 0, 0)),\n",
       "  'robot moved from (2, 0) to (2, 1)',\n",
       "  3),\n",
       " (((0, 0, 0, 0, 0),\n",
       "   (0, 1, 0, 1, 1),\n",
       "   (0, 0, 2, 0, 0),\n",
       "   (0, 1, 1, 1, 0),\n",
       "   (0, 0, 0, 0, 0)),\n",
       "  'robot moved from (2, 1) to (2, 2)',\n",
       "  4),\n",
       " (((0, 0, 0, 0, 0),\n",
       "   (0, 1, 0, 1, 1),\n",
       "   (0, 0, 0, 2, 0),\n",
       "   (0, 1, 1, 1, 0),\n",
       "   (0, 0, 0, 0, 0)),\n",
       "  'robot moved from (2, 2) to (2, 3)',\n",
       "  5),\n",
       " (((0, 0, 0, 0, 0),\n",
       "   (0, 1, 0, 1, 1),\n",
       "   (0, 0, 0, 0, 2),\n",
       "   (0, 1, 1, 1, 0),\n",
       "   (0, 0, 0, 0, 0)),\n",
       "  'robot moved from (2, 3) to (2, 4)',\n",
       "  6),\n",
       " (((0, 0, 0, 0, 0),\n",
       "   (0, 1, 0, 1, 1),\n",
       "   (0, 0, 0, 0, 0),\n",
       "   (0, 1, 1, 1, 2),\n",
       "   (0, 0, 0, 0, 0)),\n",
       "  'robot moved from (2, 4) to (3, 4)',\n",
       "  7),\n",
       " (((0, 0, 0, 0, 0),\n",
       "   (0, 1, 0, 1, 1),\n",
       "   (0, 0, 0, 0, 0),\n",
       "   (0, 1, 1, 1, 0),\n",
       "   (0, 0, 0, 0, 2)),\n",
       "  'robot moved from (3, 4) to (4, 4)',\n",
       "  8)]"
      ]
     },
     "execution_count": 152,
     "metadata": {},
     "output_type": "execute_result"
    }
   ],
   "source": [
    "print(\"La secuencia de solución tiene %s pasos\" %len(seqa))\n",
    "seqa"
   ]
  },
  {
   "cell_type": "code",
   "execution_count": 153,
   "id": "032925ec",
   "metadata": {},
   "outputs": [
    {
     "name": "stdout",
     "output_type": "stream",
     "text": [
      "finished in 19 iterations\n",
      "Se acabaron los estados: 0\n",
      "CPU times: user 792 μs, sys: 984 μs, total: 1.78 ms\n",
      "Wall time: 12.6 ms\n"
     ]
    },
    {
     "data": {
      "text/plain": [
       "<SimpleSearch.node at 0x71b18c1b97c0>"
      ]
     },
     "execution_count": 153,
     "metadata": {},
     "output_type": "execute_result"
    }
   ],
   "source": [
    "%time bfs.find() # execution time of BFS"
   ]
  },
  {
   "cell_type": "code",
   "execution_count": 154,
   "id": "ff4a219a",
   "metadata": {},
   "outputs": [
    {
     "name": "stdout",
     "output_type": "stream",
     "text": [
      "finished in 8 iterations\n",
      "Se acabaron los estados: 3\n",
      "CPU times: user 1.19 ms, sys: 0 ns, total: 1.19 ms\n",
      "Wall time: 12.5 ms\n"
     ]
    },
    {
     "data": {
      "text/plain": [
       "<SimpleSearch.node at 0x71b18c1b96a0>"
      ]
     },
     "execution_count": 154,
     "metadata": {},
     "output_type": "execute_result"
    }
   ],
   "source": [
    "%time dfs.find() # execution time of DFS"
   ]
  },
  {
   "cell_type": "code",
   "execution_count": 155,
   "id": "cd40cff4",
   "metadata": {},
   "outputs": [
    {
     "name": "stdout",
     "output_type": "stream",
     "text": [
      "finished in 19 iterations\n",
      "Se acabaron los estados: 0\n",
      "CPU times: user 2.19 ms, sys: 1.06 ms, total: 3.25 ms\n",
      "Wall time: 8.1 ms\n"
     ]
    },
    {
     "data": {
      "text/plain": [
       "<SimpleSearch.node at 0x71b18c1ba240>"
      ]
     },
     "execution_count": 155,
     "metadata": {},
     "output_type": "execute_result"
    }
   ],
   "source": [
    "%time astars.find() # execution time of DFS"
   ]
  }
 ],
 "metadata": {
  "kernelspec": {
   "display_name": ".venv",
   "language": "python",
   "name": "python3"
  },
  "language_info": {
   "codemirror_mode": {
    "name": "ipython",
    "version": 3
   },
   "file_extension": ".py",
   "mimetype": "text/x-python",
   "name": "python",
   "nbconvert_exporter": "python",
   "pygments_lexer": "ipython3",
   "version": "3.12.3"
  }
 },
 "nbformat": 4,
 "nbformat_minor": 5
}
