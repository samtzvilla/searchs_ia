{
 "cells": [
  {
   "cell_type": "markdown",
   "id": "b3c393f3",
   "metadata": {},
   "source": [
    "# Proyecto 1: búsqueda de árbol\n",
    "## Robot en un almacén con obstáculos\n",
    "\n",
    "Un robot debe moverse en un almacén representado por una cuadrícula donde algunas celdas están bloqueadas. El robot comienza en una celda inicial y debe llegar a una meta determinada. Se pueden permitir movimientos en cuatro direcciones $\\left(N, S, O, E\\right)$.\n",
    "\n",
    "![](maze.png)\n",
    "\n",
    "Este problema puede formularse como sigue:\n",
    "\n",
    "- **Estados:** cualquier ubicación que se encuentre el robot en una celda desbloqueada.\n",
    "- **Estado inicial:** ubicación del robot sobre una celda desbloqueada.\n",
    "- **Función sucesora:** generar estados legales al aplicar los movimientos en las direcciones $\\left(N, S, O, E\\right)$.\n",
    "- **Condición meta:** que el robot se encuentre sobre la celda objetivo desbloqueda."
   ]
  },
  {
   "cell_type": "markdown",
   "id": "b533033e",
   "metadata": {},
   "source": [
    "Antes de comenzar, importamos el módulo **SimpleSearch**, el cual contiene las clases para instanciar nodos (*node*) y realizar las búsquedas (*BlindSearch*).\n",
    "\n",
    "Un nodo del módulo **SimpleSearch** tiene los siguientes componentes:\n",
    "\n",
    "- **state**: el estado del sistema en este nodo.\n",
    "- **parent**: nodo que lo generó (predeterminado *None*). \n",
    "- **depth**: Profundidad del árbol del nodo (valor predeterminado 0).\n",
    "- **cost**: costo del nodo (es decir, uno por movimiento, predeterminado 0).\n",
    "- **delta**: valor heurístico del nodo (predeterminado 0).\n",
    "- **op**: cadena que contiene la descripción de la operación del generador (predeterminado \"\")."
   ]
  },
  {
   "cell_type": "code",
   "execution_count": 22,
   "id": "e88cba86",
   "metadata": {},
   "outputs": [],
   "source": [
    "import sys,os\n",
    "import numpy as np\n",
    "\n",
    "# Obtenemos la ruta absoluta de la ruta relativa \"../src\"\n",
    "# i.e. \"../src\" -> \"/home/juandto/FIE/Inteligencia_artificial/searchs_ia/src\" \n",
    "baile_path = os.path.abspath(os.path.join(\"..\", \"src\"))\n",
    "\n",
    "# sys.path contiene una lista de directorios donde el intérprete buscará\n",
    "# el módulo requerido\n",
    "if not baile_path in sys.path:\n",
    "  # Añadimos el directorio en caso de que no esté\n",
    "  sys.path.append(baile_path)\n",
    "\n",
    "import SimpleSearch as ss"
   ]
  },
  {
   "cell_type": "markdown",
   "id": "be7238f3",
   "metadata": {},
   "source": [
    "Para la definición de un estado se utilizan tuplas con el fin de que el estado del nodo sea inmutable. A continuación, se definen los estados de inicio (`init_state`) y de meta (`fin_state`). Un 0 significa que es una celda libre; un 1 significa un muro; y el 2 es usado para representar al robot. Finalmente, estos estados se pasan como atributo para la creación de los nodos `start` y `final`."
   ]
  },
  {
   "cell_type": "code",
   "execution_count": 23,
   "id": "8c355276",
   "metadata": {},
   "outputs": [],
   "source": [
    "init_state = (\n",
    "    (2, 0, 0, 0, 0),\n",
    "    (0, 1, 0, 1, 1),\n",
    "    (0, 0, 0, 0, 0),\n",
    "    (0, 1, 1, 1, 0),\n",
    "    (0, 0, 0, 0, 0)\n",
    "    )\n",
    "\n",
    "start = ss.node(init_state, op=\"start\")\n",
    "\n",
    "fin_state = (\n",
    "    (0, 0, 0, 0, 0),\n",
    "    (0, 1, 0, 1, 1),\n",
    "    (0, 0, 0, 0, 0),\n",
    "    (0, 1, 1, 1, 0),\n",
    "    (0, 0, 0, 0, 2)\n",
    "    )\n",
    "\n",
    "final = ss.node(fin_state)"
   ]
  },
  {
   "cell_type": "markdown",
   "id": "4a6f5375",
   "metadata": {},
   "source": [
    "La función sucedora recibe un nodo y retorna una lista de sucedores. Si la posición del robot se encuentra en las coordenadas $\\left(i,j\\right)$, se debe verificar que pueda moverse en las direcciones $\\left(N,S,O,E\\right)$ tales que:\n",
    "\n",
    "- $N = \\left(i - 1, j\\right)$\n",
    "- $S = \\left(i + 1, j\\right)$\n",
    "- $O = \\left(i, j - 1\\right)$\n",
    "- $E = \\left(i, j + 1\\right)$\n",
    "\n",
    "Se comprueba que la dirección a moverse no se salga del tablero o no sea una celda bloqueda (muro). Una vez hecho tales verificaciones, cada estado posible se añade a la lista de sucedores, y cuando termina, se retorna."
   ]
  },
  {
   "cell_type": "code",
   "execution_count": 24,
   "id": "5afb45bb",
   "metadata": {},
   "outputs": [],
   "source": [
    "def successor(node):\n",
    "  maze = node.state # maze = laberinto\n",
    "  sucessors = []\n",
    "\n",
    "  # Encontrar el robot (2) en el tablero. El resultado se almacena en index\n",
    "  for index,value in np.ndenumerate(maze):\n",
    "    if value == 2:\n",
    "      break\n",
    "\n",
    "  # Generar los estados válidos para los que podrá moverse el robot\n",
    "  # (-1, 0) = N\n",
    "  # (1, 0) = S\n",
    "  # (0, -1) = O\n",
    "  # (0, 1) = E\n",
    "  x, y = index\n",
    "  for dx, dy in [(0, 1), (0, -1), (1, 0), (-1, 0)]:\n",
    "    nx, ny = x + dx, y + dy\n",
    "    if 0 <= nx < len(maze) and 0 <= ny < len(maze[0]) and maze[nx][ny] != 1:\n",
    "      nmaze = [list(r[:]) for r in maze] # Se hace una copia del tablero original\n",
    "      nmaze[x][y] = 0 # Se marca como vacía la posición antigua del robot\n",
    "      nmaze[nx][ny] = 2 # Se marca como ocupada la nueva posición del robot\n",
    "      nmaze = tuple([tuple(r) for r in nmaze]) # Hacer inmutable\n",
    "      sucessors.append(ss.node(nmaze, depth=node.depth+1, op=f'robot moved from ({x}, {y}) to ({nx}, {ny})', parent=node))\n",
    "\n",
    "  return sucessors"
   ]
  },
  {
   "cell_type": "markdown",
   "id": "9b1c41f8",
   "metadata": {},
   "source": [
    "Para nuestro problema, la condición meta es dada de forma explicítica dado que conocemos la configuración del estado final. Como consecuencia, la función `goal` recibe dos nodos (`start` y `final`). Cuando `final` es dado implícitamente, la función `goal` solo recibe un argumento (i.g. un problema de ajedrez). Es por ello, que se utiliza la notación `*var` para indicar un número dinámico de argumentos."
   ]
  },
  {
   "cell_type": "code",
   "execution_count": 25,
   "id": "e3dff506",
   "metadata": {},
   "outputs": [],
   "source": [
    "def goal(*nodes):\n",
    "  current = nodes[0]\n",
    "  final = nodes[1]\n",
    "  return current.state == final.state"
   ]
  },
  {
   "cell_type": "markdown",
   "id": "483f7ad5",
   "metadata": {},
   "source": [
    "A través de la clase `BlindSearch`, se crean dos objetos los cuales corresponden a las búsquedas ciegas que se aplicarán. En el constructor especificamos el nodo inicial, la función sucesora, el nodo final y la estrategía a utilizar (BFS o DFS)."
   ]
  },
  {
   "cell_type": "code",
   "execution_count": 26,
   "id": "f7a43f12",
   "metadata": {},
   "outputs": [],
   "source": [
    "bfs = ss.BlindSearch(start, successor, goal, goal_state=final, strategy=\"bfs\")\n",
    "dfs = ss.BlindSearch(start, successor, goal, goal_state=final, strategy=\"dfs\")"
   ]
  },
  {
   "cell_type": "markdown",
   "id": "df57c77c",
   "metadata": {},
   "source": [
    "Primero ejecutamos la búsqueda BFS. Para ello, se ejecuta el método `find`. Si la búsqueda tiene éxito, entonces regresa un nodo en el estado final, de lo contrario, se imprime que la solución no fue encontrada."
   ]
  },
  {
   "cell_type": "code",
   "execution_count": 27,
   "id": "243d8f6e",
   "metadata": {},
   "outputs": [
    {
     "name": "stdout",
     "output_type": "stream",
     "text": [
      "finished in 19 iterations\n",
      "Se acabaron los estados: 0\n"
     ]
    }
   ],
   "source": [
    "resb = bfs.find() # Realiza BFS"
   ]
  },
  {
   "cell_type": "markdown",
   "id": "b3d3a297",
   "metadata": {},
   "source": [
    "Visualizamos el estado retornado por la búsqueda BFS, el cual debe corresponder al estado meta definido en un inicio."
   ]
  },
  {
   "cell_type": "code",
   "execution_count": 28,
   "id": "6631235d",
   "metadata": {},
   "outputs": [
    {
     "name": "stdout",
     "output_type": "stream",
     "text": [
      "((0, 0, 0, 0, 0), (0, 1, 0, 1, 1), (0, 0, 0, 0, 0), (0, 1, 1, 1, 0), (0, 0, 0, 0, 2))\n"
     ]
    }
   ],
   "source": [
    "print(resb.state)"
   ]
  },
  {
   "cell_type": "markdown",
   "id": "33319d7d",
   "metadata": {},
   "source": [
    "Obtenemos la ruta de solución a través del método `getPath`."
   ]
  },
  {
   "cell_type": "code",
   "execution_count": 29,
   "id": "ca1fc33d",
   "metadata": {},
   "outputs": [],
   "source": [
    "seqb = resb.getPath()"
   ]
  },
  {
   "cell_type": "markdown",
   "id": "176c1926",
   "metadata": {},
   "source": [
    "Se imprime el número de pasos que le tomó a la búsqueda llegar hasta la solución, y también, la secuencia de la ruta."
   ]
  },
  {
   "cell_type": "code",
   "execution_count": null,
   "id": "bf2d64ba",
   "metadata": {},
   "outputs": [
    {
     "name": "stdout",
     "output_type": "stream",
     "text": [
      "La secuencia de solución tiene 9 pasos\n"
     ]
    },
    {
     "data": {
      "text/plain": [
       "[(((2, 0, 0, 0, 0),\n",
       "   (0, 1, 0, 1, 1),\n",
       "   (0, 0, 0, 0, 0),\n",
       "   (0, 1, 1, 1, 0),\n",
       "   (0, 0, 0, 0, 0)),\n",
       "  'start',\n",
       "  0),\n",
       " (((0, 2, 0, 0, 0),\n",
       "   (0, 1, 0, 1, 1),\n",
       "   (0, 0, 0, 0, 0),\n",
       "   (0, 1, 1, 1, 0),\n",
       "   (0, 0, 0, 0, 0)),\n",
       "  'robot moved from (0, 0) to (0, 1)',\n",
       "  1),\n",
       " (((0, 0, 2, 0, 0),\n",
       "   (0, 1, 0, 1, 1),\n",
       "   (0, 0, 0, 0, 0),\n",
       "   (0, 1, 1, 1, 0),\n",
       "   (0, 0, 0, 0, 0)),\n",
       "  'robot moved from (0, 1) to (0, 2)',\n",
       "  2),\n",
       " (((0, 0, 0, 0, 0),\n",
       "   (0, 1, 2, 1, 1),\n",
       "   (0, 0, 0, 0, 0),\n",
       "   (0, 1, 1, 1, 0),\n",
       "   (0, 0, 0, 0, 0)),\n",
       "  'robot moved from (0, 2) to (1, 2)',\n",
       "  3),\n",
       " (((0, 0, 0, 0, 0),\n",
       "   (0, 1, 0, 1, 1),\n",
       "   (0, 0, 2, 0, 0),\n",
       "   (0, 1, 1, 1, 0),\n",
       "   (0, 0, 0, 0, 0)),\n",
       "  'robot moved from (1, 2) to (2, 2)',\n",
       "  4),\n",
       " (((0, 0, 0, 0, 0),\n",
       "   (0, 1, 0, 1, 1),\n",
       "   (0, 0, 0, 2, 0),\n",
       "   (0, 1, 1, 1, 0),\n",
       "   (0, 0, 0, 0, 0)),\n",
       "  'robot moved from (2, 2) to (2, 3)',\n",
       "  5),\n",
       " (((0, 0, 0, 0, 0),\n",
       "   (0, 1, 0, 1, 1),\n",
       "   (0, 0, 0, 0, 2),\n",
       "   (0, 1, 1, 1, 0),\n",
       "   (0, 0, 0, 0, 0)),\n",
       "  'robot moved from (2, 3) to (2, 4)',\n",
       "  6),\n",
       " (((0, 0, 0, 0, 0),\n",
       "   (0, 1, 0, 1, 1),\n",
       "   (0, 0, 0, 0, 0),\n",
       "   (0, 1, 1, 1, 2),\n",
       "   (0, 0, 0, 0, 0)),\n",
       "  'robot moved from (2, 4) to (3, 4)',\n",
       "  7),\n",
       " (((0, 0, 0, 0, 0),\n",
       "   (0, 1, 0, 1, 1),\n",
       "   (0, 0, 0, 0, 0),\n",
       "   (0, 1, 1, 1, 0),\n",
       "   (0, 0, 0, 0, 2)),\n",
       "  'robot moved from (3, 4) to (4, 4)',\n",
       "  8)]"
      ]
     },
     "execution_count": 30,
     "metadata": {},
     "output_type": "execute_result"
    }
   ],
   "source": [
    "print(\"La secuencia de solución tiene %s pasos\" %len(seqb))\n",
    "seqb # Solución"
   ]
  },
  {
   "cell_type": "markdown",
   "id": "18f41611",
   "metadata": {},
   "source": [
    "Ahora se ejecuta la búsqueda DFS."
   ]
  },
  {
   "cell_type": "code",
   "execution_count": 31,
   "id": "cf0c5752",
   "metadata": {},
   "outputs": [
    {
     "name": "stdout",
     "output_type": "stream",
     "text": [
      "finished in 8 iterations\n",
      "Se acabaron los estados: 3\n"
     ]
    }
   ],
   "source": [
    "resd = dfs.find() # Realiza DFS"
   ]
  },
  {
   "cell_type": "markdown",
   "id": "7690edad",
   "metadata": {},
   "source": [
    "Se obtiene la ruta de solución."
   ]
  },
  {
   "cell_type": "code",
   "execution_count": 32,
   "id": "420b934e",
   "metadata": {},
   "outputs": [],
   "source": [
    "seqd = resd.getPath()"
   ]
  },
  {
   "cell_type": "markdown",
   "id": "f14cbca4",
   "metadata": {},
   "source": [
    "Se imprime el total de pasos que llevan a la solución junto con la secuencia de la ruta."
   ]
  },
  {
   "cell_type": "code",
   "execution_count": 33,
   "id": "4801f16f",
   "metadata": {},
   "outputs": [
    {
     "name": "stdout",
     "output_type": "stream",
     "text": [
      "La secuencia de solución tiene 9 pasos\n"
     ]
    },
    {
     "data": {
      "text/plain": [
       "[(((2, 0, 0, 0, 0),\n",
       "   (0, 1, 0, 1, 1),\n",
       "   (0, 0, 0, 0, 0),\n",
       "   (0, 1, 1, 1, 0),\n",
       "   (0, 0, 0, 0, 0)),\n",
       "  'start',\n",
       "  0),\n",
       " (((0, 0, 0, 0, 0),\n",
       "   (2, 1, 0, 1, 1),\n",
       "   (0, 0, 0, 0, 0),\n",
       "   (0, 1, 1, 1, 0),\n",
       "   (0, 0, 0, 0, 0)),\n",
       "  'robot moved from (0, 0) to (1, 0)',\n",
       "  1),\n",
       " (((0, 0, 0, 0, 0),\n",
       "   (0, 1, 0, 1, 1),\n",
       "   (2, 0, 0, 0, 0),\n",
       "   (0, 1, 1, 1, 0),\n",
       "   (0, 0, 0, 0, 0)),\n",
       "  'robot moved from (1, 0) to (2, 0)',\n",
       "  2),\n",
       " (((0, 0, 0, 0, 0),\n",
       "   (0, 1, 0, 1, 1),\n",
       "   (0, 0, 0, 0, 0),\n",
       "   (2, 1, 1, 1, 0),\n",
       "   (0, 0, 0, 0, 0)),\n",
       "  'robot moved from (2, 0) to (3, 0)',\n",
       "  3),\n",
       " (((0, 0, 0, 0, 0),\n",
       "   (0, 1, 0, 1, 1),\n",
       "   (0, 0, 0, 0, 0),\n",
       "   (0, 1, 1, 1, 0),\n",
       "   (2, 0, 0, 0, 0)),\n",
       "  'robot moved from (3, 0) to (4, 0)',\n",
       "  4),\n",
       " (((0, 0, 0, 0, 0),\n",
       "   (0, 1, 0, 1, 1),\n",
       "   (0, 0, 0, 0, 0),\n",
       "   (0, 1, 1, 1, 0),\n",
       "   (0, 2, 0, 0, 0)),\n",
       "  'robot moved from (4, 0) to (4, 1)',\n",
       "  5),\n",
       " (((0, 0, 0, 0, 0),\n",
       "   (0, 1, 0, 1, 1),\n",
       "   (0, 0, 0, 0, 0),\n",
       "   (0, 1, 1, 1, 0),\n",
       "   (0, 0, 2, 0, 0)),\n",
       "  'robot moved from (4, 1) to (4, 2)',\n",
       "  6),\n",
       " (((0, 0, 0, 0, 0),\n",
       "   (0, 1, 0, 1, 1),\n",
       "   (0, 0, 0, 0, 0),\n",
       "   (0, 1, 1, 1, 0),\n",
       "   (0, 0, 0, 2, 0)),\n",
       "  'robot moved from (4, 2) to (4, 3)',\n",
       "  7),\n",
       " (((0, 0, 0, 0, 0),\n",
       "   (0, 1, 0, 1, 1),\n",
       "   (0, 0, 0, 0, 0),\n",
       "   (0, 1, 1, 1, 0),\n",
       "   (0, 0, 0, 0, 2)),\n",
       "  'robot moved from (4, 3) to (4, 4)',\n",
       "  8)]"
      ]
     },
     "execution_count": 33,
     "metadata": {},
     "output_type": "execute_result"
    }
   ],
   "source": [
    "print(\"La secuencia de solución tiene %s pasos\" %len(seqd))\n",
    "seqd"
   ]
  },
  {
   "cell_type": "markdown",
   "id": "340dd990",
   "metadata": {},
   "source": [
    "### Búsqueda informada A*\n",
    "\n",
    "Para una búsqueda informada, se requiere definir una heurística admisible. Esta se define como una función $h(n)$ (para nuestro caso, es $manhattan(nodes)$), la cual recibe uno o varios nodos y regresa el coste mínimo entre el nodo inicial y el nodo objetivo. Este coste debe ser menor que el coste ideal de solución $g(n)$.\n",
    "\n",
    "Nuestra heurística se basa en la idea de calcular la distancia manhattan entre el nodo inicial (`start`) y meta (`final`), ignorando las celdas obstáculo."
   ]
  },
  {
   "cell_type": "code",
   "execution_count": 34,
   "id": "eab11b9c",
   "metadata": {},
   "outputs": [],
   "source": [
    "def manhattan(*nodes):\n",
    "  current_s = nodes[0].state\n",
    "  goal_s = nodes[1].state\n",
    "\n",
    "  \n",
    "  # Encontrar el robot (2) en el tablero. El resultado se almacena en index_c\n",
    "  for index_c,value in np.ndenumerate(current_s):\n",
    "    if value == 2:\n",
    "      break\n",
    "\n",
    "  # Encontrar la posición final del robot (2) en el tablero. El resultado se almacena en index_g\n",
    "  for index_g,value in np.ndenumerate(goal_s):\n",
    "    if value == 2:\n",
    "      break \n",
    "\n",
    "  # Calcular los pasos horizontales y verticales para la meta\n",
    "  dis = (abs(index_g[0] - index_c[0]), abs(index_g[1] - index_c[1]))  \n",
    "  \n",
    "  # Retornar los pasos totales\n",
    "  return dis[0] + dis[1]"
   ]
  },
  {
   "cell_type": "code",
   "execution_count": 35,
   "id": "4eeb8568",
   "metadata": {},
   "outputs": [
    {
     "data": {
      "text/plain": [
       "8"
      ]
     },
     "execution_count": 35,
     "metadata": {},
     "output_type": "execute_result"
    }
   ],
   "source": [
    "manhattan(start, final)"
   ]
  },
  {
   "cell_type": "markdown",
   "id": "4497cd23",
   "metadata": {},
   "source": [
    "Se crea una instancia para la búsqueda A*. Se pasan como parámetros los nodos inicial y meta, función sucesora, función meta, la estrategía y la heurística."
   ]
  },
  {
   "cell_type": "code",
   "execution_count": 36,
   "id": "5f6f4e71",
   "metadata": {},
   "outputs": [],
   "source": [
    "astars = ss.BlindSearch(start, successor, goal, goal_state=final, strategy=\"a*\", heuristic=manhattan)"
   ]
  },
  {
   "cell_type": "markdown",
   "id": "6e0e9f13",
   "metadata": {},
   "source": [
    "Se ejecuta la búsqueda."
   ]
  },
  {
   "cell_type": "code",
   "execution_count": 37,
   "id": "96b8453c",
   "metadata": {},
   "outputs": [
    {
     "name": "stdout",
     "output_type": "stream",
     "text": [
      "finished in 19 iterations\n",
      "Se acabaron los estados: 0\n"
     ]
    }
   ],
   "source": [
    "resa = astars.find()"
   ]
  },
  {
   "cell_type": "markdown",
   "id": "415f2277",
   "metadata": {},
   "source": [
    "Se obtiene la ruta de solución."
   ]
  },
  {
   "cell_type": "code",
   "execution_count": 38,
   "id": "20cf1313",
   "metadata": {},
   "outputs": [],
   "source": [
    "seqa = resa.getPath()"
   ]
  },
  {
   "cell_type": "markdown",
   "id": "416b79e9",
   "metadata": {},
   "source": [
    "Se muestran el total de pasos para llegar a la solución y la secuencia de la ruta."
   ]
  },
  {
   "cell_type": "code",
   "execution_count": 39,
   "id": "7b400c51",
   "metadata": {},
   "outputs": [
    {
     "name": "stdout",
     "output_type": "stream",
     "text": [
      "La secuencia de solución tiene 9 pasos\n"
     ]
    },
    {
     "data": {
      "text/plain": [
       "[(((2, 0, 0, 0, 0),\n",
       "   (0, 1, 0, 1, 1),\n",
       "   (0, 0, 0, 0, 0),\n",
       "   (0, 1, 1, 1, 0),\n",
       "   (0, 0, 0, 0, 0)),\n",
       "  'start',\n",
       "  0),\n",
       " (((0, 0, 0, 0, 0),\n",
       "   (2, 1, 0, 1, 1),\n",
       "   (0, 0, 0, 0, 0),\n",
       "   (0, 1, 1, 1, 0),\n",
       "   (0, 0, 0, 0, 0)),\n",
       "  'robot moved from (0, 0) to (1, 0)',\n",
       "  1),\n",
       " (((0, 0, 0, 0, 0),\n",
       "   (0, 1, 0, 1, 1),\n",
       "   (2, 0, 0, 0, 0),\n",
       "   (0, 1, 1, 1, 0),\n",
       "   (0, 0, 0, 0, 0)),\n",
       "  'robot moved from (1, 0) to (2, 0)',\n",
       "  2),\n",
       " (((0, 0, 0, 0, 0),\n",
       "   (0, 1, 0, 1, 1),\n",
       "   (0, 2, 0, 0, 0),\n",
       "   (0, 1, 1, 1, 0),\n",
       "   (0, 0, 0, 0, 0)),\n",
       "  'robot moved from (2, 0) to (2, 1)',\n",
       "  3),\n",
       " (((0, 0, 0, 0, 0),\n",
       "   (0, 1, 0, 1, 1),\n",
       "   (0, 0, 2, 0, 0),\n",
       "   (0, 1, 1, 1, 0),\n",
       "   (0, 0, 0, 0, 0)),\n",
       "  'robot moved from (2, 1) to (2, 2)',\n",
       "  4),\n",
       " (((0, 0, 0, 0, 0),\n",
       "   (0, 1, 0, 1, 1),\n",
       "   (0, 0, 0, 2, 0),\n",
       "   (0, 1, 1, 1, 0),\n",
       "   (0, 0, 0, 0, 0)),\n",
       "  'robot moved from (2, 2) to (2, 3)',\n",
       "  5),\n",
       " (((0, 0, 0, 0, 0),\n",
       "   (0, 1, 0, 1, 1),\n",
       "   (0, 0, 0, 0, 2),\n",
       "   (0, 1, 1, 1, 0),\n",
       "   (0, 0, 0, 0, 0)),\n",
       "  'robot moved from (2, 3) to (2, 4)',\n",
       "  6),\n",
       " (((0, 0, 0, 0, 0),\n",
       "   (0, 1, 0, 1, 1),\n",
       "   (0, 0, 0, 0, 0),\n",
       "   (0, 1, 1, 1, 2),\n",
       "   (0, 0, 0, 0, 0)),\n",
       "  'robot moved from (2, 4) to (3, 4)',\n",
       "  7),\n",
       " (((0, 0, 0, 0, 0),\n",
       "   (0, 1, 0, 1, 1),\n",
       "   (0, 0, 0, 0, 0),\n",
       "   (0, 1, 1, 1, 0),\n",
       "   (0, 0, 0, 0, 2)),\n",
       "  'robot moved from (3, 4) to (4, 4)',\n",
       "  8)]"
      ]
     },
     "execution_count": 39,
     "metadata": {},
     "output_type": "execute_result"
    }
   ],
   "source": [
    "print(\"La secuencia de solución tiene %s pasos\" %len(seqa))\n",
    "seqa"
   ]
  },
  {
   "cell_type": "markdown",
   "id": "41518b4a",
   "metadata": {},
   "source": [
    "Finalmente, se obtiene el tiempo de ejecución de cada búsqueda para la comparación de resultados."
   ]
  },
  {
   "cell_type": "code",
   "execution_count": 40,
   "id": "032925ec",
   "metadata": {},
   "outputs": [
    {
     "name": "stdout",
     "output_type": "stream",
     "text": [
      "finished in 19 iterations\n",
      "Se acabaron los estados: 0\n",
      "CPU times: user 1.12 ms, sys: 0 ns, total: 1.12 ms\n",
      "Wall time: 2.75 ms\n"
     ]
    },
    {
     "data": {
      "text/plain": [
       "<SimpleSearch.node at 0x795dac1eaae0>"
      ]
     },
     "execution_count": 40,
     "metadata": {},
     "output_type": "execute_result"
    }
   ],
   "source": [
    "%time bfs.find() # Tiempo de ejecución de BFS"
   ]
  },
  {
   "cell_type": "code",
   "execution_count": 41,
   "id": "ff4a219a",
   "metadata": {},
   "outputs": [
    {
     "name": "stdout",
     "output_type": "stream",
     "text": [
      "finished in 8 iterations\n",
      "Se acabaron los estados: 3\n",
      "CPU times: user 568 μs, sys: 0 ns, total: 568 μs\n",
      "Wall time: 639 μs\n"
     ]
    },
    {
     "data": {
      "text/plain": [
       "<SimpleSearch.node at 0x795dac1e9c10>"
      ]
     },
     "execution_count": 41,
     "metadata": {},
     "output_type": "execute_result"
    }
   ],
   "source": [
    "%time dfs.find() # Tiempo de ejecución de DFS"
   ]
  },
  {
   "cell_type": "code",
   "execution_count": 42,
   "id": "cd40cff4",
   "metadata": {},
   "outputs": [
    {
     "name": "stdout",
     "output_type": "stream",
     "text": [
      "finished in 19 iterations\n",
      "Se acabaron los estados: 0\n",
      "CPU times: user 1.99 ms, sys: 1.03 ms, total: 3.02 ms\n",
      "Wall time: 13.5 ms\n"
     ]
    },
    {
     "data": {
      "text/plain": [
       "<SimpleSearch.node at 0x795dac1ea300>"
      ]
     },
     "execution_count": 42,
     "metadata": {},
     "output_type": "execute_result"
    }
   ],
   "source": [
    "%time astars.find() # Tiempo de ejecución de A*"
   ]
  },
  {
   "cell_type": "markdown",
   "id": "e2acce8d",
   "metadata": {},
   "source": [
    "### Conclusión\n",
    "\n",
    "|Estrategía de búsqueda|No. de iteraciones|Tiempo de ejecución|No. de pasos|\n",
    "|:-------------:|--------------:|-------------:|--------------:|\n",
    "|BFS|19|2.75 ms|9|\n",
    "|DFS|8|639 μs|9|\n",
    "|$A^*$|19|13.5 ms|9|\n",
    "\n",
    "Referente a los resultados observados en la tabla, podemos determinar que la búsqueda DFS fue la más óptima en términos de tiempo e iteraciones. Sin embargo, esto no implica que este método sea el mejor en todos los casos. En general, la búsqueda DFS encuentra una solución bastante rápido pero no significa que sea la más óptima. Por otro lado, BFS tarda mucho más en encontrar una solución (en términos de espacio y tiempo), sin embargo, la solución que encuentra es la más eficiente."
   ]
  }
 ],
 "metadata": {
  "kernelspec": {
   "display_name": ".venv",
   "language": "python",
   "name": "python3"
  },
  "language_info": {
   "codemirror_mode": {
    "name": "ipython",
    "version": 3
   },
   "file_extension": ".py",
   "mimetype": "text/x-python",
   "name": "python",
   "nbconvert_exporter": "python",
   "pygments_lexer": "ipython3",
   "version": "3.12.3"
  }
 },
 "nbformat": 4,
 "nbformat_minor": 5
}
