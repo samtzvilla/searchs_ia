{
 "cells": [
  {
   "cell_type": "markdown",
   "id": "b3c393f3",
   "metadata": {},
   "source": [
    "# Proyecto 1: búsqueda de árbol\n",
    "## Robot en un almacén con obstáculos\n",
    "\n",
    "Un robot debe moverse en un almacén representado por una cuadrícula donde algunas celdas están bloqueadas. El robot comienza en una celda inicial y debe llegar a una meta determinada. Se pueden permitir movimientos en cuatro direcciones $\\left(N, S, O, E\\right)$ o incluir diagonales.\n",
    "\n",
    "Este problema puede formularse como sigue:\n",
    "\n",
    "- **Estados:** cualquier ubicación que se encuentre el robot en una celda desbloqueada.\n",
    "- **Estado inicial:** ubicación del robot sobre una celda desbloqueada.\n",
    "- **Función sucesora:** generar estados legales al aplicar los movimientos en las direcciones $\\left(N, S, O, E\\right)$.\n",
    "- **Condición meta:** que el robot se encuentre sobre la celda objetivo desbloqueda.\n",
    "- **Heurística:**"
   ]
  },
  {
   "cell_type": "code",
   "execution_count": 31,
   "id": "e88cba86",
   "metadata": {},
   "outputs": [],
   "source": [
    "import sys,os\n",
    "import numpy as np\n",
    "\n",
    "# Obtenemos la ruta absoluta de la ruta relativa \"../src\"\n",
    "# i.e. \"../src\" -> \"/home/juandto/FIE/Inteligencia_artificial/searchs_ia/src\" \n",
    "baile_path = os.path.abspath(os.path.join(\"..\", \"src\"))\n",
    "\n",
    "# sys.path contiene una lista de directorios donde el intérprete buscará\n",
    "# el módulo requerido\n",
    "if not baile_path in sys.path:\n",
    "  # Añadimos el directorio en caso de que no esté\n",
    "  sys.path.append(baile_path)\n",
    "\n",
    "import SimpleSearch as ss"
   ]
  },
  {
   "cell_type": "code",
   "execution_count": 32,
   "id": "8c355276",
   "metadata": {},
   "outputs": [],
   "source": [
    "init_state = np.array([\n",
    "    [2, 0, 0],\n",
    "    [1, 0, 1],\n",
    "    [0, 0, 0]   \n",
    "    ])\n",
    "\n",
    "start = ss.node((init_state), op=\"start\")\n",
    "\n",
    "fin_state = np.array([\n",
    "    [0, 0, 0],\n",
    "    [1, 0, 1],\n",
    "    [0, 0, 2]   \n",
    "    ])\n",
    "\n",
    "goal = ss.node((fin_state))"
   ]
  },
  {
   "cell_type": "code",
   "execution_count": null,
   "id": "5afb45bb",
   "metadata": {},
   "outputs": [
    {
     "name": "stdout",
     "output_type": "stream",
     "text": [
      "(0, 0)\n"
     ]
    },
    {
     "data": {
      "text/plain": [
       "[]"
      ]
     },
     "execution_count": 33,
     "metadata": {},
     "output_type": "execute_result"
    }
   ],
   "source": [
    "def successor(node):\n",
    "  maze = node.state # maze = laberinto\n",
    "  sucessors = []\n",
    "\n",
    "  # Encontrar el robot (2) en el tablero. El resultado se almacena en index\n",
    "  for index,value in np.ndenumerate(maze):\n",
    "    if value == 2:\n",
    "      break\n",
    "\n",
    "  # Generar los estados válidos para los que podrá moverse el robot\n",
    "  # (i, j) -> (i - 1, j) = N\n",
    "  # (i, j) -> (i + 1, j) = S\n",
    "  # (i, j) -> (i, j - 1) = O\n",
    "  # (i, j) -> (i, j + 1) = E\n",
    "  for direction in [N, S, O, E]:\n",
    "\n",
    "  return sucessors\n",
    "\n",
    "successor(start)"
   ]
  }
 ],
 "metadata": {
  "kernelspec": {
   "display_name": ".venv",
   "language": "python",
   "name": "python3"
  },
  "language_info": {
   "codemirror_mode": {
    "name": "ipython",
    "version": 3
   },
   "file_extension": ".py",
   "mimetype": "text/x-python",
   "name": "python",
   "nbconvert_exporter": "python",
   "pygments_lexer": "ipython3",
   "version": "3.12.3"
  }
 },
 "nbformat": 4,
 "nbformat_minor": 5
}
